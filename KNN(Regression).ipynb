{
  "nbformat": 4,
  "nbformat_minor": 0,
  "metadata": {
    "colab": {
      "name": "KNN(Regression).ipynb",
      "provenance": [],
      "collapsed_sections": []
    },
    "kernelspec": {
      "name": "python3",
      "display_name": "Python 3"
    }
  },
  "cells": [
    {
      "cell_type": "code",
      "metadata": {
        "id": "Je0zlM5wOVM1",
        "colab": {
          "base_uri": "https://localhost:8080/"
        },
        "outputId": "f0ebf8e1-01f8-4e95-e816-1cd8025af327"
      },
      "source": [
        "from google.colab import drive\n",
        "drive.mount('/content/gdrive')"
      ],
      "execution_count": null,
      "outputs": [
        {
          "output_type": "stream",
          "text": [
            "Mounted at /content/gdrive\n"
          ],
          "name": "stdout"
        }
      ]
    },
    {
      "cell_type": "code",
      "metadata": {
        "id": "3B2259MfdDKY"
      },
      "source": [
        "from numpy import genfromtxt\n",
        "def load_dataset(path):\n",
        "  return genfromtxt(path, delimiter=',')\n"
      ],
      "execution_count": null,
      "outputs": []
    },
    {
      "cell_type": "code",
      "metadata": {
        "id": "USLdFHiCPPbm"
      },
      "source": [
        "# glass_path = '/content/gdrive/My Drive/ALLAB/KNN/Clasification/glass.csv'\n",
        "#crop_path = '/content/gdrive/My Drive/AI Dataset/Crop Classification Test Data.csv'\n",
        "#crop2_path = '/content/gdrive/My Drive/AI Dataset/Crop classification.csv'\n",
        "#regre = '/content/gdrive/My Drive/AI Dataset/Mobileprice.csv'\n",
        "#my_data = genfromtxt(crop_path, delimiter=',')\n",
        "#regre = '/content/sample_data/california_housing_train.csv'\n",
        "#regre = '/content/gdrive/My Drive/AI Dataset/diabetes.csv'\n",
        "regre = '/content/gdrive/My Drive/AI Dataset/cancer_reg.csv'\n",
        "dataset = load_dataset(regre)\n"
      ],
      "execution_count": null,
      "outputs": []
    },
    {
      "cell_type": "code",
      "metadata": {
        "id": "u-MgG4NYc0va"
      },
      "source": [
        "import random\n",
        "import math\n",
        "iris = dataset.tolist()\n",
        "for x in iris:\n",
        "  for y in range(len(x)):\n",
        "    z = float(x[y])\n",
        "    if math.isnan(z):\n",
        "      x[y] = 0\n",
        "# print(iris)\n",
        "# print()\n",
        "random.shuffle(iris)\n",
        "#print(iris)"
      ],
      "execution_count": null,
      "outputs": []
    },
    {
      "cell_type": "code",
      "metadata": {
        "id": "KI1Ccd4RQDuN",
        "colab": {
          "base_uri": "https://localhost:8080/",
          "height": 67
        },
        "outputId": "73b8c1b7-0ec8-4d4b-dab4-937d8d161f6b"
      },
      "source": [
        "from random import random\n",
        "#print(random())\n",
        "\n",
        "Train_set=[]\n",
        "Val_set=[]\n",
        "Test_set=[]\n",
        "\n",
        "\n",
        "for x in iris:\n",
        "  R = random()\n",
        "  if R >= 0 and R <= 0.7:\n",
        "    Train_set.append(x)\n",
        "  elif R >= 0.7 and R <= 0.85:\n",
        "    Val_set.append(x)\n",
        "  else:\n",
        "    Test_set.append(x)\n",
        "\n",
        "print(len(Train_set))\n",
        "print(len(Val_set))\n",
        "print(len(Test_set))"
      ],
      "execution_count": null,
      "outputs": [
        {
          "output_type": "stream",
          "text": [
            "2153\n",
            "468\n",
            "426\n"
          ],
          "name": "stdout"
        }
      ]
    },
    {
      "cell_type": "code",
      "metadata": {
        "id": "WP_1nyxeSv-X",
        "colab": {
          "base_uri": "https://localhost:8080/",
          "height": 34
        },
        "outputId": "89ed0f47-24d6-43e5-9c2a-b19a72ee30ff"
      },
      "source": [
        "from scipy.spatial import distance\n",
        "import operator\n",
        "k = 10\n",
        "#print(distance.euclidean([1,0,0], [0,1,0]))\n",
        "L = {}\n",
        "correct = 0\n",
        "error = 0\n",
        "for s in Val_set:\n",
        "  major_class = {}\n",
        "  L = {}\n",
        "  for v in Train_set:\n",
        "    ed = distance.euclidean(s[0:(len(s)-1)], v[0:(len(v)-1)])\n",
        "    L[ed] = v[-1]\n",
        "  sorted_L = sorted(L.keys())\n",
        "\n",
        "  # print(type(sorted_L))\n",
        "  count = 1\n",
        "  total_val = 0.0\n",
        "  for x in sorted_L:\n",
        "    total_val = total_val + L[x]\n",
        "    count = count + 1\n",
        "    if(count > k):\n",
        "      break\n",
        "  val = total_val/k\n",
        "  #print(f\"True vale: {s[-1]}   Estimated val: {val}\")\n",
        "  #print(f'Error {s[-1] - val}')\n",
        "  error = error + (s[-1] - val)**2\n",
        "  # print(f\"S_value = {int(s[-1])}\")\n",
        "  # print(f\"V_value = {val}\")\n",
        "  if(int(s[-1]) == val):\n",
        "    correct = correct + 1\n",
        "#print(correct)\n",
        "#print(error)\n",
        "error_r = (error/len(Val_set))**(1/2)\n",
        "print(error_r)\n"
      ],
      "execution_count": null,
      "outputs": [
        {
          "output_type": "stream",
          "text": [
            "26.94457019972417\n"
          ],
          "name": "stdout"
        }
      ]
    },
    {
      "cell_type": "code",
      "metadata": {
        "id": "qNHnvKBy0TGs",
        "colab": {
          "base_uri": "https://localhost:8080/",
          "height": 34
        },
        "outputId": "e1b0f1cd-4042-4629-fe8e-5179e02dc840"
      },
      "source": [
        "#print(distance.euclidean([1,0,0], [0,1,0]))\n",
        "L = {}\n",
        "correct = 0\n",
        "for s in Test_set:\n",
        "  major_class = {}\n",
        "  L = {}\n",
        "  for v in Train_set:\n",
        "    ed = distance.euclidean(s[0:(len(s)-1)], v[0:(len(v)-1)])\n",
        "    L[ed] = v[-1]\n",
        "  sorted_L = sorted(L.keys())\n",
        "  count = 1\n",
        "  total_val = 0.0\n",
        "  for x in sorted_L:\n",
        "    total_val = total_val + L[x]\n",
        "    count = count + 1\n",
        "    if(count > k):\n",
        "      break\n",
        "  val = total_val/k\n",
        "  #print(f\"True vale: {s[-1]}   Estimated val: {val}\")\n",
        "  #print(f'Error {s[-1] - val}')\n",
        "  error = error + (s[-1] - val)**2\n",
        "  # print(f\"S_value = {int(s[-1])}\")\n",
        "  # print(f\"V_value = {val}\")\n",
        "  if(int(s[-1]) == val):\n",
        "    correct = correct + 1\n",
        "#print(correct)\n",
        "#print(error)\n",
        "error_r = (error/len(Val_set))**(1/2)\n",
        "print(error_r)"
      ],
      "execution_count": null,
      "outputs": [
        {
          "output_type": "stream",
          "text": [
            "36.21625074985078\n"
          ],
          "name": "stdout"
        }
      ]
    }
  ]
}