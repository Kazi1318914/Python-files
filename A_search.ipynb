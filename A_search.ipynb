{
  "nbformat": 4,
  "nbformat_minor": 0,
  "metadata": {
    "colab": {
      "name": "A* search.ipynb",
      "provenance": [],
      "collapsed_sections": []
    },
    "kernelspec": {
      "name": "python3",
      "display_name": "Python 3"
    }
  },
  "cells": [
    {
      "cell_type": "code",
      "metadata": {
        "id": "k84BEWRq997u",
        "colab": {
          "base_uri": "https://localhost:8080/"
        },
        "outputId": "4474bd2b-90e9-4086-a958-196a43a3a775"
      },
      "source": [
        "pip install prioQbyrobi"
      ],
      "execution_count": null,
      "outputs": [
        {
          "output_type": "stream",
          "text": [
            "Collecting prioQbyrobi\n",
            "  Downloading https://files.pythonhosted.org/packages/bf/9c/246cc65193ab040056f6b913c547f4c1fa7c6a497b0f70d4f8fc1492cbde/prioQbyrobi-2.0.6-py3-none-any.whl\n",
            "Installing collected packages: prioQbyrobi\n",
            "Successfully installed prioQbyrobi-2.0.6\n"
          ],
          "name": "stdout"
        }
      ]
    },
    {
      "cell_type": "code",
      "metadata": {
        "id": "Pfj7_RmFsc9I",
        "colab": {
          "base_uri": "https://localhost:8080/"
        },
        "outputId": "8a239051-066e-4ec0-c16c-52ebf174a199"
      },
      "source": [
        "#A* search\n",
        "\n",
        "import prioQbyrobi as PriorityQ \n",
        "\n",
        "# denote = {\n",
        "#     0:'S',\n",
        "#     1:'A',\n",
        "#     2:'B',\n",
        "#     3:'C',\n",
        "#     4:'D',\n",
        "# }\n",
        "\n",
        "# adj_node_with_val = [\n",
        "#                      [-1,1,4,-1,-1],\n",
        "#                      [-1,-1,2,5,12],\n",
        "#                      [-1,-1,-1,2,-1],\n",
        "#                      [-1,-1,-1,-1,3],\n",
        "#                      [-1,-1,-1,-1,-1]\n",
        "# ]\n",
        "\n",
        "# h_val = [7,6,2,1,0]\n",
        "\n",
        "denote = {\n",
        "    0:'a',\n",
        "    1:'b',\n",
        "    2:'c',\n",
        "    3:'d',\n",
        "    4:'e',\n",
        "    5:'f',\n",
        "    6:'z'\n",
        "}\n",
        "\n",
        "adj_node_with_val = [\n",
        "            [-1,4,3,-1,-1,-1,-1],\n",
        "            [-1,-1,-1,-1,12,5],\n",
        "            [-1,-1,-1,7,10,-1,-1],\n",
        "            [-1,-1,-1,-1,2,-1,-1],\n",
        "            [-1,-1,-1,-1,-1,-1,5],\n",
        "            [-1,-1,-1,-1,-1,-1,-16],\n",
        "            [-1,-1,-1,-1,-1,-1,-1]\n",
        "]\n",
        "\n",
        "\n",
        "h_val = [14,12,11,6,4,11,0]\n",
        "\n",
        "class Node:\n",
        "  def __init__(self, act_cost_so_far, total_cost, node_no, node_obj=None):\n",
        "    self.actual_cost_sofar = act_cost_so_far\n",
        "    self.total_cost = total_cost\n",
        "    self.node_no = node_no\n",
        "    self.prev_node_obj = node_obj\n",
        "\n",
        "#first_one = Node(0,7,'S')\n",
        "first_one = Node(0,14,'a')\n",
        "\n",
        "minPrioQ = PriorityQ.PriorityQueue()\n",
        "\n",
        "minPrioQ.insert(first_one)\n",
        "track = 0\n",
        "xkeepTrack = 0\n",
        "while minPrioQ.size():\n",
        "  getNodeObj = minPrioQ.delete()\n",
        "  nodeName = getNodeObj.node_no\n",
        "\n",
        "  for x in denote:\n",
        "    if denote[x] == nodeName :\n",
        "      keepTrack = track\n",
        "      xkeepTrack = keepTrack\n",
        "      break\n",
        "    else:\n",
        "      track += 1\n",
        "  track = 0\n",
        "  if xkeepTrack == (len(denote)-1):\n",
        "    #print(f\"end {getNodeObj.total_cost}\")\n",
        "    break\n",
        "  i = 0\n",
        "  #print(f\"Parent: {getNodeObj.node_no}\")\n",
        "  for adjNode in adj_node_with_val[xkeepTrack]:\n",
        "    if adjNode != -1: \n",
        "      gn = getNodeObj.actual_cost_sofar + adjNode\n",
        "      fn = gn + h_val[i]\n",
        "      #print(f\"Child node:{denote[i]} - cost:{fn} - actual_cost:{gn} and previous cost:{getNodeObj.actual_cost_sofar}\")\n",
        "      nodeNew = Node(gn,fn,denote[i],getNodeObj)\n",
        "      minPrioQ.insert(nodeNew)\n",
        "    i += 1\n",
        "\n",
        "nodePath = []\n",
        "print(f'Total cost: {getNodeObj.total_cost}')\n",
        "while 1:\n",
        "  getPrevNodeObj = getNodeObj.prev_node_obj\n",
        "  if(getPrevNodeObj != None):\n",
        "    nodePath.append(getNodeObj.node_no)\n",
        "    getNodeObj = getPrevNodeObj\n",
        "  else:\n",
        "    nodePath.append(getNodeObj.node_no)\n",
        "    break\n",
        "\n",
        "nodePath.reverse()\n",
        "print(f'Path: {nodePath}')\n"
      ],
      "execution_count": null,
      "outputs": [
        {
          "output_type": "stream",
          "text": [
            "Total cost: 17\n",
            "Path: ['a', 'c', 'd', 'e', 'z']\n"
          ],
          "name": "stdout"
        }
      ]
    }
  ]
}