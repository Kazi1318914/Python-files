{
  "nbformat": 4,
  "nbformat_minor": 0,
  "metadata": {
    "colab": {
      "name": "NLP text summary (Sentence Ranking).ipynb",
      "provenance": []
    },
    "kernelspec": {
      "name": "python3",
      "display_name": "Python 3"
    },
    "language_info": {
      "name": "python"
    },
    "accelerator": "GPU"
  },
  "cells": [
    {
      "cell_type": "code",
      "metadata": {
        "colab": {
          "base_uri": "https://localhost:8080/"
        },
        "id": "4HNIqbMoeDTs",
        "outputId": "e42275d3-6d7e-4ad9-b0bf-70933516f185"
      },
      "source": [
        "import numpy as np\n",
        "import pandas as pd\n",
        "import nltk\n",
        "nltk.download('punkt') # one time execution\n",
        "import re"
      ],
      "execution_count": null,
      "outputs": [
        {
          "output_type": "stream",
          "text": [
            "[nltk_data] Downloading package punkt to /root/nltk_data...\n",
            "[nltk_data]   Package punkt is already up-to-date!\n"
          ],
          "name": "stdout"
        }
      ]
    },
    {
      "cell_type": "code",
      "metadata": {
        "id": "OkVSXvqieU_y"
      },
      "source": [
        "df = pd.read_csv(\"/content/tennis_articles.csv\", engine='python')"
      ],
      "execution_count": null,
      "outputs": []
    },
    {
      "cell_type": "code",
      "metadata": {
        "colab": {
          "base_uri": "https://localhost:8080/",
          "height": 254
        },
        "id": "3Cytwn5sgB20",
        "outputId": "538d5497-219c-4d8c-8bf0-880ee7d49166"
      },
      "source": [
        "df"
      ],
      "execution_count": null,
      "outputs": [
        {
          "output_type": "execute_result",
          "data": {
            "text/html": [
              "<div>\n",
              "<style scoped>\n",
              "    .dataframe tbody tr th:only-of-type {\n",
              "        vertical-align: middle;\n",
              "    }\n",
              "\n",
              "    .dataframe tbody tr th {\n",
              "        vertical-align: top;\n",
              "    }\n",
              "\n",
              "    .dataframe thead th {\n",
              "        text-align: right;\n",
              "    }\n",
              "</style>\n",
              "<table border=\"1\" class=\"dataframe\">\n",
              "  <thead>\n",
              "    <tr style=\"text-align: right;\">\n",
              "      <th></th>\n",
              "      <th>article_id</th>\n",
              "      <th>article_title</th>\n",
              "      <th>article_text</th>\n",
              "    </tr>\n",
              "  </thead>\n",
              "  <tbody>\n",
              "    <tr>\n",
              "      <th>0</th>\n",
              "      <td>1</td>\n",
              "      <td>Global warming</td>\n",
              "      <td>In recent years, there have been many alarming...</td>\n",
              "    </tr>\n",
              "    <tr>\n",
              "      <th>1</th>\n",
              "      <td>2</td>\n",
              "      <td>Human rights</td>\n",
              "      <td>Human rights are rights inherent to all human ...</td>\n",
              "    </tr>\n",
              "    <tr>\n",
              "      <th>2</th>\n",
              "      <td>3</td>\n",
              "      <td>Globalization</td>\n",
              "      <td>Globalization has become a buzzword at the pre...</td>\n",
              "    </tr>\n",
              "    <tr>\n",
              "      <th>3</th>\n",
              "      <td>4</td>\n",
              "      <td>Deforestation</td>\n",
              "      <td>The cutting down of trees indiscriminately to ...</td>\n",
              "    </tr>\n",
              "    <tr>\n",
              "      <th>4</th>\n",
              "      <td>5</td>\n",
              "      <td>Etiquette and Manner</td>\n",
              "      <td>Man is a social animal. So following social co...</td>\n",
              "    </tr>\n",
              "    <tr>\n",
              "      <th>5</th>\n",
              "      <td>6</td>\n",
              "      <td>Folk Music</td>\n",
              "      <td>Folk music is a music that belong to a communi...</td>\n",
              "    </tr>\n",
              "    <tr>\n",
              "      <th>6</th>\n",
              "      <td>7</td>\n",
              "      <td>Tree Plantation</td>\n",
              "      <td>Trees are an essential part of our environment...</td>\n",
              "    </tr>\n",
              "  </tbody>\n",
              "</table>\n",
              "</div>"
            ],
            "text/plain": [
              "   article_id  ...                                       article_text\n",
              "0           1  ...  In recent years, there have been many alarming...\n",
              "1           2  ...  Human rights are rights inherent to all human ...\n",
              "2           3  ...  Globalization has become a buzzword at the pre...\n",
              "3           4  ...  The cutting down of trees indiscriminately to ...\n",
              "4           5  ...  Man is a social animal. So following social co...\n",
              "5           6  ...  Folk music is a music that belong to a communi...\n",
              "6           7  ...  Trees are an essential part of our environment...\n",
              "\n",
              "[7 rows x 3 columns]"
            ]
          },
          "metadata": {
            "tags": []
          },
          "execution_count": 44
        }
      ]
    },
    {
      "cell_type": "code",
      "metadata": {
        "colab": {
          "base_uri": "https://localhost:8080/",
          "height": 187
        },
        "id": "SRGrfrJcgGHd",
        "outputId": "86740261-a4bf-40d4-87d3-eb2ed73cb8a7"
      },
      "source": [
        "df['article_text'][0]"
      ],
      "execution_count": null,
      "outputs": [
        {
          "output_type": "execute_result",
          "data": {
            "application/vnd.google.colaboratory.intrinsic+json": {
              "type": "string"
            },
            "text/plain": [
              "\"In recent years, there have been many alarming reports to effect that the world climate is undergoing a significant change. All these reports provide strong evidence that the world temperature is increasing day by day. This is called global warming. This increase in global warming is caused by the increasing amounts of carbon dioxide around the earth. The destruction of forests and other habitats is causing the extinction of various plants and animals everyday. If we destroy forests and burn down trees, the effects might eventually endanger us all. Then the weather pattern will change and the world will become much warmer. Most climatologists believe that the greenhouse effect is the probable cause of that global warming. Climatologists predict that midway through this century, temperature may rise by as much as 4 degree Celsius. This could catastrophically reduce mankind's ability to grow food, destroy or severely damage wildlife and wilderness, raise sea levels and thereby flood coastal areas and farmland. That is the reason why it is a threat to mankind. The alarming news about Bangladesh is that, as a result of the rise of the sea level, southern part of the country may one day go under water. We can prevent it by planting trees in large numbers as well as by preserving those that were planted before.\""
            ]
          },
          "metadata": {
            "tags": []
          },
          "execution_count": 15
        }
      ]
    },
    {
      "cell_type": "code",
      "metadata": {
        "colab": {
          "base_uri": "https://localhost:8080/",
          "height": 204
        },
        "id": "EtLqMbFSgPEq",
        "outputId": "36c54769-6f07-4509-f728-f909bdbf40d3"
      },
      "source": [
        "df['article_text'][1]"
      ],
      "execution_count": null,
      "outputs": [
        {
          "output_type": "execute_result",
          "data": {
            "application/vnd.google.colaboratory.intrinsic+json": {
              "type": "string"
            },
            "text/plain": [
              "'Human rights are rights inherent to all human beings regardless of their nationality, sex, colour, religion, language or any other status. In fact, human rights refer to some moral principles or norms that describe certain standards of human behaviour. Human rights are protected as legal rights in international law. Every person in this world has the right to get food, clothing, shelter, education and medical service. These rights are regarded as basic human rights. In our country, a number of people are deprived of their basic human rights. Our poor children are deprived of food, medical service and education. There are a number of street children who are shelterless. These little kids have to earn money themselves for living. They do it by engaging themselves in many risky jobs. Such type of situation increases child labour. Many of our women folk are deprived of education. They have no right to make any decision or give any opinion about the important issues in the family. Sometimes, they are tortured both physically and mentally. Our old people are deprived of proper care and medical service. People can come to know what the constitution says about their rights if they are conscious of their rights. If people know about their rights, they can enjoy their rights and protect themselves properly. They will feel their importance as citizens. They will become responsible citizens of the country. Thus, our people can contribute to the development of the country.'"
            ]
          },
          "metadata": {
            "tags": []
          },
          "execution_count": 16
        }
      ]
    },
    {
      "cell_type": "code",
      "metadata": {
        "colab": {
          "base_uri": "https://localhost:8080/",
          "height": 154
        },
        "id": "jnZac1IqgT9a",
        "outputId": "d1f44d94-096b-4e2d-8b7e-59e638023327"
      },
      "source": [
        "df['article_text'][2] "
      ],
      "execution_count": null,
      "outputs": [
        {
          "output_type": "execute_result",
          "data": {
            "application/vnd.google.colaboratory.intrinsic+json": {
              "type": "string"
            },
            "text/plain": [
              "'Globalization has become a buzzword at the present world. It is a process of expanding trade and commerce all over the world by creating a border less market. There are many benefits of globalization. The world has come closer. Now, we can learn instantly what is happening in the farthest corner of the world and travel to any country in the shortest possible time. Countries of the world are like families in a village. The people of the world can easily exchange their joys, sorrows and emotions with each other. Thus, we have conquered distance and time. If one country is in distress, other can immediately come to its assistance. However, globalization has some demerits too. In the name of globalization, capitalist countries are enjoying more opportunities by exploiting the poor countries. It also affects our native culture. By watching satellite channels, our native culture is getting western culture day by day. However, we can make our world a better place by building up an atmosphere of mutual understanding and co-operation through globalization.'"
            ]
          },
          "metadata": {
            "tags": []
          },
          "execution_count": 17
        }
      ]
    },
    {
      "cell_type": "code",
      "metadata": {
        "colab": {
          "base_uri": "https://localhost:8080/",
          "height": 170
        },
        "id": "HPzX-7iYYHFj",
        "outputId": "d713a2eb-d370-4448-a2f6-40bb614b0f2f"
      },
      "source": [
        "df['article_text'][3] "
      ],
      "execution_count": null,
      "outputs": [
        {
          "output_type": "execute_result",
          "data": {
            "application/vnd.google.colaboratory.intrinsic+json": {
              "type": "string"
            },
            "text/plain": [
              "'The cutting down of trees indiscriminately to meet up the basic needs of food and housing and thus destroying the ecological balance is called deforestation. For the increasing number of population, we need more schools, colleges, offices, business establishments and various sorts of furniture. So we cut down many trees. Moreover, in many parts of Bangladesh, people are to depend on wood for cooking their food. To make fire, they cut down trees. This cutting down of trees i? deforestation which has many adverse effects. Deforestation disturbs our ecological balance. Animals and birds living in the forests are on the verge of extinction owing to deforestation. Inadequate number of trees causes drought and drought damages crops. When Deforestation may cause desertification in many parts of the world which poses a serious threat to our living. As a result of deforestation, carbon dioxide is increasing worldwide making the world warmer. It also causes the rise of sea-level and thereby floods coastal areas and farmland. Deforestation exerts many adverse effects on climate, agriculture and our life. We should try to stop deforestation and plant more and more trees.'"
            ]
          },
          "metadata": {
            "tags": []
          },
          "execution_count": 18
        }
      ]
    },
    {
      "cell_type": "code",
      "metadata": {
        "colab": {
          "base_uri": "https://localhost:8080/",
          "height": 204
        },
        "id": "yDFmC44gYMAT",
        "outputId": "ae8556cd-562e-4434-d578-bbe6b97f027a"
      },
      "source": [
        "df['article_text'][4] "
      ],
      "execution_count": null,
      "outputs": [
        {
          "output_type": "execute_result",
          "data": {
            "application/vnd.google.colaboratory.intrinsic+json": {
              "type": "string"
            },
            "text/plain": [
              "\"Man is a social animal. So following social code of behaviour is important for living in the society. These are called social behaviour. We have two terms to describe our social behaviour - etiquette and manners. Etiquette is a French word. It is a set of rules dealing with exterior form. Manners are an expression of inner character. Rules of etiquette are the guiding codes that enable us to practice manners. Manner is considered to be polite in a particular society or culture. Manners can be good or bad. For example, it is a bad manner to speak with food in one's mouth. No one likes a bad-mannered person. Etiquette and manners vary from culture to culture and from society to society. The best place to learn manners and etiquette is the home where the child spends most of its time. Besides home, we also learn etiquette and manners from various institutions, such as schools, colleges or professional bodies. Again, there are rules of behaviour for all kinds of social occasions and it is important to learn them and practice them in everyday life. The manners that are correct in a wedding reception will not do in a debating club. Therefore, we have to be careful about etiquette and manners. A few polite expressions such as 'pardon me', 'excuse me', 'may I' can make our day smooth and pleasant. Although they do not cost anything, they bring us valuable gains. They enhance the pleasure of life. One can win over even the enemy if he presents good manners. Good manners and etiquette are the key to success.\""
            ]
          },
          "metadata": {
            "tags": []
          },
          "execution_count": 24
        }
      ]
    },
    {
      "cell_type": "code",
      "metadata": {
        "colab": {
          "base_uri": "https://localhost:8080/",
          "height": 204
        },
        "id": "s8z8ZqdeYPNf",
        "outputId": "88061a67-7ab5-40b9-94cf-ca48abae11c2"
      },
      "source": [
        "df['article_text'][5] "
      ],
      "execution_count": null,
      "outputs": [
        {
          "output_type": "execute_result",
          "data": {
            "application/vnd.google.colaboratory.intrinsic+json": {
              "type": "string"
            },
            "text/plain": [
              "\"Folk music is a music that belong to a community and that are not influenced by any sophisticated music rules or any standard music styles. Folk music includes both religious and secular songs.The history of folk music composition can be traded back in third century between BC during the Gupta dynasty. Generation of rural poet composer created enormous tradition Bangla folk music. Most of the folk songs are composed based on rural people, culture and environments which differ from region to region in Bangladesh. Folk music has great variety in Bangladesh. They are Bhatiyali, Bhawaiya, Baul, Spiritual song, Jarigan, Sarigan, Murshidi etc. Bangladesh has a good of instruments of her own. They are dotara, Dhole, Bhasi, Mandire, Khajani, Hari, Kumkum, Zara etc. Some famous singers have made the folk music popular among the people of Bangladesh. They are Shiraj Saiah, Lalon shah, Shah Abdul Karim, Hasan Raja, Abbas uddin, Abdul Alim and Radha Roman who are notable folk singers in Bangladesh. Tribal custom, culture, and lifestyles have an effect on it. Folk music maybe song individually or in chorus. At present the condition of folk music in our country is very poor. Now a day's rich traditional folk music is inevitably influenced by western music and culture. So, we should avoid the foreign music. Because we should not neglect our rich traditional folk music. All of us should be come forward to preserve our rich, ancient and significant folk songs.\""
            ]
          },
          "metadata": {
            "tags": []
          },
          "execution_count": 20
        }
      ]
    },
    {
      "cell_type": "code",
      "metadata": {
        "colab": {
          "base_uri": "https://localhost:8080/",
          "height": 221
        },
        "id": "pz6GMkwjYR95",
        "outputId": "f67cf6d5-aad4-4078-e9a1-4f5f6f4c0a35"
      },
      "source": [
        "df['article_text'][6] "
      ],
      "execution_count": null,
      "outputs": [
        {
          "output_type": "execute_result",
          "data": {
            "application/vnd.google.colaboratory.intrinsic+json": {
              "type": "string"
            },
            "text/plain": [
              "'Trees are an essential part of our environment There can be no doubt about the usefulness of trees. We need oxygen for living and trees to provide us with oxygen. Trees cause rainfall and thus prevent the spread of desert. Trees save our land from erosion and maintain the fertility of the soil. Trees give us shade. Trees give us food. We get crops and different delicious and juicy fruits from trees. Trees give shelter to many animals, insects, and birds. In this Way, trees help maintain ecological balance. We also get many products like wood, leaves, rubber, resin, fragrance honey etc. from trees. Paper is made from Wood and bamboo. We use wood as fuel and also need it for making things like houses, boats, and furniture. Trees make our world beautiful. It is very charming to look at trees. But the world is losing its trees in huge amount every year. We cut a lot of trees and destroy many forests for frazzling $30 cities, making new houses and for getting more Wood. If this trend continues, there will not be enough trees for maintaining ecological balances. Many countries are already turning into deserts due to the massive cutting of trees. Many species of birds and animals have also become extinct for want of food and habitat after the destruction of forests. Hence it has become an emergency to plant more trees. In Bangladesh, the rainy season is the best time for the plantation of trees. We can plant trees in any open places. around our houses, office buildings, factories, schools colleges, and hospitals. We should also plant trees on either side of the roads and in all available places.'"
            ]
          },
          "metadata": {
            "tags": []
          },
          "execution_count": 21
        }
      ]
    },
    {
      "cell_type": "code",
      "metadata": {
        "id": "V_KzWglPjyjr"
      },
      "source": [
        "from nltk.tokenize import sent_tokenize\n",
        "sentences = []\n",
        "count = 0\n",
        "breakko = 0  # which paragraph i want\n",
        "for s in df['article_text']:\n",
        "  if count == breakko:\n",
        "    sentences.append(sent_tokenize(s))\n",
        "    break\n",
        "  count += 1\n",
        "\n",
        "sentences = [y for x in sentences for y in x] # flatten list"
      ],
      "execution_count": null,
      "outputs": []
    },
    {
      "cell_type": "code",
      "metadata": {
        "id": "hyXWm3D9f-CF"
      },
      "source": [
        "tf = \"we live in an age of science. Our life today is governed and conditioned by the wonderful offshoots of science. We feel the impact of science almost in the everyday walk of our life. science is the gospel of modern civilization. It has made the impossible possible. It has brought about a radical change over the globe of the world. Science does today what was supposed to the impossible yesterday. electricity is the first wonder of modern science. It has brought about a great change in our life. Modern civilization itself is indeed the creation of electricity. Modern civilization would come to a standstill if there were no electricity. It is a great source of power and energy. It has made our life easy. Comfortable and enjoyable. science has done great magic in the field of communication. Telephone, Fax, telex, wireless, mobile phone, internet, etc. are all great wonders of science, they have conquered time, space, and distance and brought the world closer to us. Radio and television are also two great wonders of communication. science has also done miracles in the medical world. It has enabled men to fight doses effectively. The robot, these tube child, heart- transplantation, eye-grafting, etc. Are all the dramatic contributions of science. We can mention the names of penicillin, x-rays, ECG, biopsy, ultrasonography. Radiotherapy etc. As the fighting weapons of science against diseases. science has contributed a lot in the field of agriculture. Different tools used in modern cultivation are the products of science. Our scientists have invented a great variety of high yielding kinds of paddy to boost up our agriculture and attain self-sufficiently in food production. Science has also brought about a great revolution in the field of industrialization. science has also invented many wonders for our recreation. We have a cinema, radio, television, tape recorder, V.C.R, S.T.R, etc. For our recreation, these media help us enjoy ourselves and forget our pains, sorrows, and boredom of our day-to-day Routine-bound hard-felt life. science has also modernized our transport system. We can now travel thousands of miles within a short time by car, trains, buses, launches, and steamers. These transports have brought the world closer to us. This is why transport is rightly said to be civilization. The more a nation developed in its transport system, the more it is said to be civilized. the invention of radar is another wonder of science. It helps us detect the advancement of ships, planes and the like. Meteorologists can also forecast the weather with the help of radar. The invention of the rocket has made space travel easy. The man has successfully landed on the moon with the help of a rocket. We can assert that the landing on the moon is a giant step in the history of mankind. the latest miracle of science Is the computer. It is a super electric brain. It can do all types of difficult calculations, keeping records and information. It is able to work very wonderfully and effectively. Whatever record and information we keep stored in its memory, we can retrieve and recover, as and when we need, by pressing buttons. nuclear energy is perhaps the most wonderful of all achievements of modern science. It has made the making of destructive weapons like an atom bomb, hydrogen bomb, and missiles possible. Scientists, however, have been trying their best to utilize nuclear energy for the benefit of mankind. modern science is like Aladdin’s magic lamp. We now live scientifically; move scientifically, think scientifically and feel scientifical. We need science more than ever before indeed.\""
      ],
      "execution_count": null,
      "outputs": []
    },
    {
      "cell_type": "code",
      "metadata": {
        "id": "fJLxVP-Af9zv"
      },
      "source": [
        "sentences = []\n",
        "sentences.append(sent_tokenize(tf))\n",
        "sentences = [y for x in sentences for y in x] # flatten list"
      ],
      "execution_count": null,
      "outputs": []
    },
    {
      "cell_type": "code",
      "metadata": {
        "id": "6Lo0Grzsj13x"
      },
      "source": [
        "sentences"
      ],
      "execution_count": null,
      "outputs": []
    },
    {
      "cell_type": "code",
      "metadata": {
        "colab": {
          "base_uri": "https://localhost:8080/"
        },
        "id": "Qr517HZpkNHb",
        "outputId": "b48147e8-a1f3-4544-898c-71a89bbf03d7"
      },
      "source": [
        "!wget http://nlp.stanford.edu/data/glove.6B.zip\n",
        "!unzip glove*.zip"
      ],
      "execution_count": null,
      "outputs": [
        {
          "output_type": "stream",
          "text": [
            "--2021-05-09 18:38:04--  http://nlp.stanford.edu/data/glove.6B.zip\n",
            "Resolving nlp.stanford.edu (nlp.stanford.edu)... 171.64.67.140\n",
            "Connecting to nlp.stanford.edu (nlp.stanford.edu)|171.64.67.140|:80... connected.\n",
            "HTTP request sent, awaiting response... 302 Found\n",
            "Location: https://nlp.stanford.edu/data/glove.6B.zip [following]\n",
            "--2021-05-09 18:38:04--  https://nlp.stanford.edu/data/glove.6B.zip\n",
            "Connecting to nlp.stanford.edu (nlp.stanford.edu)|171.64.67.140|:443... connected.\n",
            "HTTP request sent, awaiting response... 301 Moved Permanently\n",
            "Location: http://downloads.cs.stanford.edu/nlp/data/glove.6B.zip [following]\n",
            "--2021-05-09 18:38:04--  http://downloads.cs.stanford.edu/nlp/data/glove.6B.zip\n",
            "Resolving downloads.cs.stanford.edu (downloads.cs.stanford.edu)... 171.64.64.22\n",
            "Connecting to downloads.cs.stanford.edu (downloads.cs.stanford.edu)|171.64.64.22|:80... connected.\n",
            "HTTP request sent, awaiting response... 200 OK\n",
            "Length: 862182613 (822M) [application/zip]\n",
            "Saving to: ‘glove.6B.zip’\n",
            "\n",
            "glove.6B.zip        100%[===================>] 822.24M  5.06MB/s    in 2m 41s  \n",
            "\n",
            "2021-05-09 18:40:45 (5.11 MB/s) - ‘glove.6B.zip’ saved [862182613/862182613]\n",
            "\n",
            "Archive:  glove.6B.zip\n",
            "  inflating: glove.6B.50d.txt        \n",
            "  inflating: glove.6B.100d.txt       \n",
            "  inflating: glove.6B.200d.txt       \n",
            "  inflating: glove.6B.300d.txt       \n"
          ],
          "name": "stdout"
        }
      ]
    },
    {
      "cell_type": "code",
      "metadata": {
        "id": "32LsSmZjlB6z"
      },
      "source": [
        "# Extract word vectors\n",
        "word_embeddings = {}\n",
        "f = open('/content/glove.6B.100d.txt', encoding='utf-8')\n",
        "for line in f:\n",
        "    values = line.split()\n",
        "    word = values[0]\n",
        "    coefs = np.asarray(values[1:], dtype='float32')\n",
        "    word_embeddings[word] = coefs\n",
        "f.close()"
      ],
      "execution_count": null,
      "outputs": []
    },
    {
      "cell_type": "code",
      "metadata": {
        "colab": {
          "base_uri": "https://localhost:8080/"
        },
        "id": "cAePm0O9lIrM",
        "outputId": "436d8a09-ec43-4a0c-ee24-7c6820bcd769"
      },
      "source": [
        "len(word_embeddings)"
      ],
      "execution_count": null,
      "outputs": [
        {
          "output_type": "execute_result",
          "data": {
            "text/plain": [
              "400000"
            ]
          },
          "metadata": {
            "tags": []
          },
          "execution_count": 59
        }
      ]
    },
    {
      "cell_type": "code",
      "metadata": {
        "id": "B_opiWy4lNJb"
      },
      "source": [
        "# remove punctuations, numbers and special characters\n",
        "clean_sentences = pd.Series(sentences).str.replace(\"[^a-zA-Z]\", \" \")\n",
        "\n",
        "# make alphabets lowercase\n",
        "clean_sentences = [s.lower() for s in clean_sentences]"
      ],
      "execution_count": null,
      "outputs": []
    },
    {
      "cell_type": "code",
      "metadata": {
        "colab": {
          "base_uri": "https://localhost:8080/"
        },
        "id": "xDcU5cHolPnR",
        "outputId": "ad216f5b-bf51-4dfb-8471-cf7da1c5bdeb"
      },
      "source": [
        "nltk.download('stopwords')"
      ],
      "execution_count": null,
      "outputs": [
        {
          "output_type": "stream",
          "text": [
            "[nltk_data] Downloading package stopwords to /root/nltk_data...\n",
            "[nltk_data]   Package stopwords is already up-to-date!\n"
          ],
          "name": "stdout"
        },
        {
          "output_type": "execute_result",
          "data": {
            "text/plain": [
              "True"
            ]
          },
          "metadata": {
            "tags": []
          },
          "execution_count": 85
        }
      ]
    },
    {
      "cell_type": "code",
      "metadata": {
        "id": "OFXZXIlDlSlT"
      },
      "source": [
        "from nltk.corpus import stopwords\n",
        "stop_words = stopwords.words('english')"
      ],
      "execution_count": null,
      "outputs": []
    },
    {
      "cell_type": "code",
      "metadata": {
        "id": "dM0OmbR-lTGA"
      },
      "source": [
        "# function to remove stopwords\n",
        "def remove_stopwords(sen):\n",
        "    sen_new = \" \".join([i for i in sen if i not in stop_words])\n",
        "    return sen_new"
      ],
      "execution_count": null,
      "outputs": []
    },
    {
      "cell_type": "code",
      "metadata": {
        "id": "7-zO6q4plVLS"
      },
      "source": [
        "# remove stopwords from the sentences\n",
        "clean_sentences = [remove_stopwords(r.split()) for r in clean_sentences]"
      ],
      "execution_count": null,
      "outputs": []
    },
    {
      "cell_type": "code",
      "metadata": {
        "id": "tG4hYJ03lWx6"
      },
      "source": [
        "# Extract word vectors\n",
        "word_embeddings = {}\n",
        "f = open('glove.6B.100d.txt', encoding='utf-8')\n",
        "for line in f:\n",
        "    values = line.split()\n",
        "    word = values[0]\n",
        "    coefs = np.asarray(values[1:], dtype='float32')\n",
        "    word_embeddings[word] = coefs\n",
        "f.close()"
      ],
      "execution_count": null,
      "outputs": []
    },
    {
      "cell_type": "code",
      "metadata": {
        "id": "VJ1n-LN7lZoK"
      },
      "source": [
        "sentence_vectors = []\n",
        "for i in clean_sentences:\n",
        "  if len(i) != 0:\n",
        "    v = sum([word_embeddings.get(w, np.zeros((100,))) for w in i.split()])/(len(i.split())+0.001)\n",
        "  else:\n",
        "    v = np.zeros((100,))\n",
        "  sentence_vectors.append(v)"
      ],
      "execution_count": null,
      "outputs": []
    },
    {
      "cell_type": "code",
      "metadata": {
        "id": "ce4gCWTkld_T"
      },
      "source": [
        "# similarity matrix\n",
        "sim_mat = np.zeros([len(sentences), len(sentences)])"
      ],
      "execution_count": null,
      "outputs": []
    },
    {
      "cell_type": "code",
      "metadata": {
        "id": "uqkZPdCNlfwC"
      },
      "source": [
        "from sklearn.metrics.pairwise import cosine_similarity"
      ],
      "execution_count": null,
      "outputs": []
    },
    {
      "cell_type": "code",
      "metadata": {
        "id": "lHWvb2pXlhdK"
      },
      "source": [
        "for i in range(len(sentences)):\n",
        "  for j in range(len(sentences)):\n",
        "    if i != j:\n",
        "      sim_mat[i][j] = cosine_similarity(sentence_vectors[i].reshape(1,100), sentence_vectors[j].reshape(1,100))[0,0]"
      ],
      "execution_count": null,
      "outputs": []
    },
    {
      "cell_type": "code",
      "metadata": {
        "id": "TXlkXbqxljJh"
      },
      "source": [
        "import networkx as nx\n",
        "\n",
        "nx_graph = nx.from_numpy_array(sim_mat)\n",
        "scores = nx.pagerank(nx_graph)"
      ],
      "execution_count": null,
      "outputs": []
    },
    {
      "cell_type": "code",
      "metadata": {
        "id": "BY5duxDNllIJ"
      },
      "source": [
        "ranked_sentences = sorted(((scores[i],s) for i,s in enumerate(sentences)), reverse=True)"
      ],
      "execution_count": null,
      "outputs": []
    },
    {
      "cell_type": "code",
      "metadata": {
        "colab": {
          "base_uri": "https://localhost:8080/"
        },
        "id": "Pkx7_xm5lmvB",
        "outputId": "1890efa3-eadc-44a9-a48c-99c0805ca875"
      },
      "source": [
        "# Extract top n sentences as the summary\n",
        "n = 10\n",
        "for i in range(n):\n",
        "  print(ranked_sentences[i][1])"
      ],
      "execution_count": null,
      "outputs": [
        {
          "output_type": "stream",
          "text": [
            "We need science more than ever before indeed.\n",
            "science has also done miracles in the medical world.\n",
            "are all great wonders of science, they have conquered time, space, and distance and brought the world closer to us.\n",
            "electricity is the first wonder of modern science.\n",
            "Scientists, however, have been trying their best to utilize nuclear energy for the benefit of mankind.\n",
            "science has done great magic in the field of communication.\n",
            "We feel the impact of science almost in the everyday walk of our life.\n",
            "It has made our life easy.\n",
            "nuclear energy is perhaps the most wonderful of all achievements of modern science.\n",
            "The invention of the rocket has made space travel easy.\n"
          ],
          "name": "stdout"
        }
      ]
    },
    {
      "cell_type": "code",
      "metadata": {
        "id": "aft0VVGUloNR"
      },
      "source": [
        ""
      ],
      "execution_count": null,
      "outputs": []
    }
  ]
}