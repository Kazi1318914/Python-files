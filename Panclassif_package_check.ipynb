{
  "nbformat": 4,
  "nbformat_minor": 0,
  "metadata": {
    "colab": {
      "name": "Panclassif package check.ipynb",
      "provenance": [],
      "collapsed_sections": []
    },
    "kernelspec": {
      "name": "python3",
      "display_name": "Python 3"
    },
    "accelerator": "GPU"
  },
  "cells": [
    {
      "cell_type": "code",
      "metadata": {
        "colab": {
          "base_uri": "https://localhost:8080/"
        },
        "id": "zaUXpuG_obnn",
        "outputId": "d2775a91-ca66-482e-da45-f87095b5344d"
      },
      "source": [
        "from google.colab import drive\n",
        "drive.mount('/content/drive')"
      ],
      "execution_count": null,
      "outputs": [
        {
          "output_type": "stream",
          "text": [
            "Mounted at /content/drive\n"
          ],
          "name": "stdout"
        }
      ]
    },
    {
      "cell_type": "code",
      "metadata": {
        "id": "bzHzcLpZM3MV"
      },
      "source": [
        "pip install panclassif"
      ],
      "execution_count": null,
      "outputs": []
    },
    {
      "cell_type": "code",
      "metadata": {
        "id": "tQ2uH4M75hsy",
        "colab": {
          "base_uri": "https://localhost:8080/"
        },
        "outputId": "7efdc650-ea66-4572-92a7-19f286c08909"
      },
      "source": [
        "import panclassif as pc "
      ],
      "execution_count": null,
      "outputs": [
        {
          "output_type": "stream",
          "text": [
            "Creating directory /root/.config/bioservices \n"
          ],
          "name": "stdout"
        }
      ]
    },
    {
      "cell_type": "code",
      "metadata": {
        "id": "6Jq_V4Sbyn6L"
      },
      "source": [
        "homepath = '/content/drive/MyDrive/package check'\n",
        "cancerpath = '/content/drive/MyDrive/package check/cancer/'\n",
        "normalpath = '/content/drive/MyDrive/package check/normal/'\n",
        "\n",
        "smoothed_cancer = '/content/drive/MyDrive/package check/smoothed_cancer'\n",
        "smoothed_normal = '/content/drive/MyDrive/package check/smoothed_normal'\n",
        "\n",
        "# homepath = '/home'\n",
        "# cancerpath = '/home/cancer/'\n",
        "# normalpath = '/home/normal/'\n",
        "\n",
        "# smoothed_cancer = '/home/smoothed_cancer'\n",
        "# smoothed_normal = '/home/smoothed_normal'\n",
        "\n",
        "#names = [\"BLCA\",\"BRCA\",\"CESC\",\"CHOL\",\"COAD\",\"ESCA\",\"HNSC\",\"KICH\",\"KIRC\",\"KIRP\",\"LIHC\",\"LUAD\",\"LUSC\",\"PAAD\",\"PCPG\",\"PRAD\",\"READ\",\"SARC\",\"STAD\",\"THCA\",\"THYM\",\"UCEC\"]"
      ],
      "execution_count": null,
      "outputs": []
    },
    {
      "cell_type": "code",
      "metadata": {
        "id": "1OfSj45tNTFA"
      },
      "source": [
        "names = pc.featSelect(homepath,cancerpath,normalpath, k=50)\n",
        "\n",
        "pc.dataProcess(homepath,names,cancerpath,smoothed_cancer,smoothed_normal)\n",
        "pc.upsampled(names, homepath)\n",
        "pc.binary_merge(names, homepath)\n",
        "pc.multi_merge(names, homepath)\n",
        "\n",
        "\n",
        "from sklearn.ensemble import RandomForestClassifier\n",
        "from sklearn.neighbors import KNeighborsClassifier\n",
        "from sklearn.ensemble import AdaBoostClassifier\n",
        "from sklearn.svm import SVC\n",
        "\n",
        "pc.classification(homepath, KNeighborsClassifier(n_neighbors=2), mode=\"multi\")\n",
        "pc.classification(homepath, KNeighborsClassifier(n_neighbors=2), mode=\"binary\")\n",
        "\n",
        "pc.classification(homepath, RandomForestClassifier(n_estimators=100), mode=\"multi\")\n",
        "pc.classification(homepath, RandomForestClassifier(n_estimators=100), mode=\"binary\")\n",
        "\n",
        "pc.classification(homepath, SVC(kernel='linear', C=1), mode=\"multi\")\n",
        "pc.classification(homepath, SVC(kernel='linear', C=1), mode=\"binary\")\n",
        "\n",
        "pc.classification(homepath, SVC(kernel='rbf', C=1), mode=\"multi\")\n",
        "pc.classification(homepath, SVC(kernel='rbf', C=1), mode=\"binary\")\n",
        "\n",
        "pc.classification(homepath, AdaBoostClassifier(n_estimators=50), mode=\"multi\")\n",
        "pc.classification(homepath, AdaBoostClassifier(n_estimators=50), mode=\"binary\")\n",
        "\n",
        "pc.classification(homepath, \"NN\", mode=\"multi\")\n",
        "pc.classification(homepath, \"NN\", mode=\"binary\")\n",
        "\n",
        "\n",
        "\n",
        "pc.gsea(homepath)"
      ],
      "execution_count": null,
      "outputs": []
    },
    {
      "cell_type": "code",
      "metadata": {
        "id": "23yQD6LnouSO"
      },
      "source": [
        "names = pc.featSelect(homepath,cancerpath,normalpath, k=5)\n",
        "#names = pc.featSelect(homepath,cancerpath,normalpath, k=5)"
      ],
      "execution_count": null,
      "outputs": []
    },
    {
      "cell_type": "code",
      "metadata": {
        "id": "4sXPzGCG94C4"
      },
      "source": [
        "pc.dataProcess(homepath,names,cancerpath,smoothed_cancer,smoothed_normal)\n",
        "pc.upsampled(names, homepath)\n",
        "pc.binary_merge(names, homepath)\n",
        "pc.multi_merge(names, homepath)"
      ],
      "execution_count": null,
      "outputs": []
    },
    {
      "cell_type": "code",
      "metadata": {
        "id": "fzPgIHj_Gejk"
      },
      "source": [
        "from sklearn.svm import SVC\n",
        "from sklearn.ensemble import RandomForestClassifier\n",
        "#pc.classification(homepath, SVC(kernel='rbf', C=1), mode=\"multi\")\n",
        "pc.classification(homepath, RandomForestClassifier(n_estimators=100), mode=\"multi\")"
      ],
      "execution_count": null,
      "outputs": []
    },
    {
      "cell_type": "code",
      "metadata": {
        "id": "njQ1t71NopG0"
      },
      "source": [
        "from sklearn.ensemble import RandomForestClassifier\n",
        "from sklearn.neighbors import KNeighborsClassifier\n",
        "from sklearn.ensemble import AdaBoostClassifier\n",
        "from sklearn.svm import SVC\n",
        "\n",
        "pc.classification(homepath, KNeighborsClassifier(n_neighbors=2), mode=\"multi\")\n",
        "pc.classification(homepath, KNeighborsClassifier(n_neighbors=2), mode=\"binary\")\n",
        "\n",
        "pc.classification(homepath, RandomForestClassifier(n_estimators=100), mode=\"multi\")\n",
        "pc.classification(homepath, RandomForestClassifier(n_estimators=100), mode=\"binary\")\n",
        "\n",
        "pc.classification(homepath, SVC(kernel='linear', C=1), mode=\"multi\")\n",
        "pc.classification(homepath, SVC(kernel='linear', C=1), mode=\"binary\")\n",
        "\n",
        "pc.classification(homepath, SVC(kernel='rbf', C=1), mode=\"multi\")\n",
        "pc.classification(homepath, SVC(kernel='rbf', C=1), mode=\"binary\")\n",
        "\n",
        "pc.classification(homepath, AdaBoostClassifier(n_estimators=50), mode=\"multi\")\n",
        "pc.classification(homepath, AdaBoostClassifier(n_estimators=50), mode=\"binary\")\n",
        "\n",
        "pc.classification(homepath, \"NN\", mode=\"multi\")\n",
        "pc.classification(homepath, \"NN\", mode=\"binary\")"
      ],
      "execution_count": null,
      "outputs": []
    },
    {
      "cell_type": "code",
      "metadata": {
        "id": "lZBsZEliy7kr"
      },
      "source": [
        "pc.gsea(homepath)"
      ],
      "execution_count": null,
      "outputs": []
    }
  ]
}