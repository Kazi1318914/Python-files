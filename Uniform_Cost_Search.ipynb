{
  "nbformat": 4,
  "nbformat_minor": 0,
  "metadata": {
    "colab": {
      "name": "Uniform Cost Search.ipynb",
      "provenance": [],
      "collapsed_sections": []
    },
    "kernelspec": {
      "name": "python3",
      "display_name": "Python 3"
    }
  },
  "cells": [
    {
      "cell_type": "code",
      "metadata": {
        "id": "EqPteVvP7kP5"
      },
      "source": [
        "pip install prioQbyrobi"
      ],
      "execution_count": null,
      "outputs": []
    },
    {
      "cell_type": "code",
      "metadata": {
        "id": "qwQl4DPS8rla",
        "colab": {
          "base_uri": "https://localhost:8080/"
        },
        "outputId": "86dc9b43-8400-4722-a8b9-6e8bfebdb083"
      },
      "source": [
        "import prioQbyrobi as PriorityQ \n",
        "\n",
        "# denote = {\n",
        "#     0:'S',\n",
        "#     1:'A',\n",
        "#     2:'B',\n",
        "#     3:'C',\n",
        "#     4:'D',\n",
        "# }\n",
        "\n",
        "# adj_node_with_val = [\n",
        "#                      [-1,1,4,-1,-1],\n",
        "#                      [-1,-1,2,5,12],\n",
        "#                      [-1,-1,-1,2,-1],\n",
        "#                      [-1,-1,-1,-1,3],\n",
        "#                      [-1,-1,-1,-1,-1]\n",
        "#]\n",
        "\n",
        "denote = {\n",
        "    0:'a',\n",
        "    1:'b',\n",
        "    2:'c',\n",
        "    3:'d',\n",
        "    4:'e',\n",
        "    5:'f',\n",
        "    6:'g'\n",
        "}\n",
        "\n",
        "adj_node_with_val = [\n",
        "            [-1,4,3,-1,-1,-1,-1],\n",
        "            [-1,-1,-1,-1,12,5],\n",
        "            [-1,-1,-1,7,10,-1,-1],\n",
        "            [-1,-1,-1,-1,2,-1,-1],\n",
        "            [-1,-1,-1,-1,-1,-1,5],\n",
        "            [-1,-1,-1,-1,-1,-1,16],\n",
        "            [-1,-1,-1,-1,-1,-1,-1]\n",
        "]\n",
        "\n",
        "\n",
        "class Node:\n",
        "  def __init__(self, total_cost, node_no, node_obj=None):\n",
        "    self.total_cost = total_cost\n",
        "    self.node_no = node_no\n",
        "    self.prev_node_obj = node_obj\n",
        "\n",
        "#first_one = Node(0,'S')\n",
        "first_one = Node(0,'a')\n",
        "\n",
        "minPrioQ = PriorityQ.PriorityQueue()\n",
        "\n",
        "minPrioQ.insert(first_one)\n",
        "track = 0\n",
        "xkeepTrack = 0\n",
        "while minPrioQ.size():\n",
        "  getNodeObj = minPrioQ.delete()\n",
        "  nodeName = getNodeObj.node_no\n",
        "\n",
        "  for x in denote:\n",
        "    if denote[x] == nodeName :\n",
        "      keepTrack = track\n",
        "      xkeepTrack = keepTrack\n",
        "      break\n",
        "    else:\n",
        "      track += 1\n",
        "  track = 0\n",
        "  if xkeepTrack == (len(denote)-1):\n",
        "    #print(f\"end {getNodeObj.total_cost}\")\n",
        "    break\n",
        "  i = 0\n",
        "  #print(f\"Parent: {getNodeObj.node_no}\")\n",
        "  for adjNode in adj_node_with_val[xkeepTrack]:\n",
        "    if (adjNode != -1): \n",
        "      print(adjNode)\n",
        "      gn = getNodeObj.total_cost + adjNode\n",
        "      #print(f\"Child node:{denote[i]} - cost:{fn} - actual_cost:{gn} and previous cost:{getNodeObj.actual_cost_sofar}\")\n",
        "      nodeNew = Node(gn,denote[i],getNodeObj)\n",
        "      minPrioQ.insert(nodeNew)\n",
        "    i += 1\n",
        "\n",
        "nodePath = []\n",
        "print(f'Total cost: {getNodeObj.total_cost}')\n",
        "while 1:\n",
        "  getPrevNodeObj = getNodeObj.prev_node_obj\n",
        "  if(getPrevNodeObj != None):\n",
        "    nodePath.append(getNodeObj.node_no)\n",
        "    getNodeObj = getPrevNodeObj\n",
        "  else:\n",
        "    nodePath.append(getNodeObj.node_no)\n",
        "    break\n",
        "\n",
        "nodePath.reverse()\n",
        "print(f'Path: {nodePath}')"
      ],
      "execution_count": null,
      "outputs": [
        {
          "output_type": "stream",
          "text": [
            "4\n",
            "3\n",
            "7\n",
            "10\n",
            "12\n",
            "5\n",
            "16\n",
            "2\n",
            "5\n",
            "5\n",
            "5\n",
            "Total cost: 17\n",
            "Path: ['a', 'c', 'd', 'e', 'g']\n"
          ],
          "name": "stdout"
        }
      ]
    }
  ]
}