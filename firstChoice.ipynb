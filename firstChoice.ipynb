{
  "nbformat": 4,
  "nbformat_minor": 0,
  "metadata": {
    "colab": {
      "name": "firstChoice.ipynb",
      "provenance": [],
      "collapsed_sections": []
    },
    "kernelspec": {
      "name": "python3",
      "display_name": "Python 3"
    },
    "language_info": {
      "name": "python"
    }
  },
  "cells": [
    {
      "cell_type": "code",
      "metadata": {
        "id": "_-VikKEe7U6y"
      },
      "source": [
        "pip install prioQbyrobi"
      ],
      "execution_count": null,
      "outputs": []
    },
    {
      "cell_type": "code",
      "metadata": {
        "id": "ALTs8yIN67cL"
      },
      "source": [
        "def init():\n",
        "  main_list = [2, 1, 5, 0, 8, 4, 10, 0, 20, 10];\n",
        "  #main_list = [2, 1, 5, 0, 8, 4];\n",
        "  return main_list\n",
        "\n",
        "def goal_test(state):\n",
        "\tif calc_cost(state) == 0:\n",
        "\t\treturn True\n",
        "\telse:\n",
        "\t\treturn False\n",
        "\n",
        "def calc_cost(state):\n",
        "  i = 0\n",
        "  costing = 0\n",
        "  count = 0\n",
        "  while(i < len(state)):\n",
        "    for x in state:\n",
        "      if count >= i:\n",
        "        if state[i] > x:\n",
        "          costing += 1\n",
        "      count += 1\n",
        "    i += 1\n",
        "    count = 0\n",
        "  return costing\n",
        "\n",
        "def state_generation(current_state, current_state_cost):\n",
        "  check_list = []\n",
        "  check_cost = calc_cost(init())\n",
        "  # print(f'1st print {current_state}, {current_state_cost}')\n",
        "  for i in range(len(current_state)):\n",
        "    for j in range(i+1, len(current_state)):\n",
        "      new_state = current_state.copy()\n",
        "      new_state[i], new_state[j] = new_state[j], new_state[i]\n",
        "      # print(f'new_cost {calc_cost(new_state)}, 1st cost {check_cost}, current state cost {current_state_cost}')\n",
        "      if(calc_cost(new_state) < current_state_cost):\n",
        "        #print(\"yes\")\n",
        "        check_cost = calc_cost(new_state)\n",
        "        check_list = new_state\n",
        "        return check_list, check_cost\n",
        "\n",
        "\n",
        "cost = calc_cost(init())\n",
        "state = init()\n",
        "while(not goal_test(state)):\n",
        "  state, cost = state_generation(state, cost)\n",
        "  if cost is None:\n",
        "    print(state)\n",
        "    break\n",
        "print(state)"
      ],
      "execution_count": null,
      "outputs": []
    }
  ]
}