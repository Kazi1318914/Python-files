{
  "nbformat": 4,
  "nbformat_minor": 0,
  "metadata": {
    "colab": {
      "name": "KNN(Classification).ipynb",
      "provenance": [],
      "collapsed_sections": []
    },
    "kernelspec": {
      "name": "python3",
      "display_name": "Python 3"
    },
    "accelerator": "GPU"
  },
  "cells": [
    {
      "cell_type": "code",
      "metadata": {
        "id": "Je0zlM5wOVM1"
      },
      "source": [
        "from google.colab import drive\n",
        "drive.mount('/content/gdrive')"
      ],
      "execution_count": null,
      "outputs": []
    },
    {
      "cell_type": "code",
      "metadata": {
        "id": "3B2259MfdDKY"
      },
      "source": [
        "from numpy import genfromtxt\n",
        "def load_dataset(path):\n",
        "  return genfromtxt(path, delimiter=',')\n"
      ],
      "execution_count": null,
      "outputs": []
    },
    {
      "cell_type": "code",
      "metadata": {
        "id": "USLdFHiCPPbm"
      },
      "source": [
        "#crop2_path = '/content/gdrive/My Drive/AI Dataset/Crop classification.csv'\n",
        "regre = '/content/gdrive/My Drive/AI Dataset/Mobileprice.csv'\n",
        "#regre = '/content/sample_data/mnist_train_small.csv'\n",
        "#my_data = genfromtxt(crop_path, delimiter=',')\n",
        "\n",
        "dataset = load_dataset(regre)\n"
      ],
      "execution_count": null,
      "outputs": []
    },
    {
      "cell_type": "code",
      "metadata": {
        "id": "u-MgG4NYc0va"
      },
      "source": [
        "import random\n",
        "iris = dataset.tolist()\n",
        "# print(iris)\n",
        "# print()\n",
        "random.shuffle(iris)\n",
        "#print(iris)"
      ],
      "execution_count": null,
      "outputs": []
    },
    {
      "cell_type": "code",
      "metadata": {
        "id": "KI1Ccd4RQDuN",
        "colab": {
          "base_uri": "https://localhost:8080/",
          "height": 67
        },
        "outputId": "578891ec-2c5d-4f5c-c0ed-6631671d3d94"
      },
      "source": [
        "from random import random\n",
        "#print(random())\n",
        "\n",
        "Train_set=[]\n",
        "Val_set=[]\n",
        "Test_set=[]\n",
        "\n",
        "\n",
        "for x in iris:\n",
        "  R = random()\n",
        "  if R >= 0 and R <= 0.7:\n",
        "    Train_set.append(x)\n",
        "  elif R >= 0.7 and R <= 0.85:\n",
        "    Val_set.append(x)\n",
        "  else:\n",
        "    Test_set.append(x)\n",
        "\n",
        "print(len(Train_set))\n",
        "print(len(Val_set))\n",
        "print(len(Test_set))"
      ],
      "execution_count": null,
      "outputs": [
        {
          "output_type": "stream",
          "text": [
            "1442\n",
            "286\n",
            "272\n"
          ],
          "name": "stdout"
        }
      ]
    },
    {
      "cell_type": "code",
      "metadata": {
        "id": "WP_1nyxeSv-X",
        "colab": {
          "base_uri": "https://localhost:8080/",
          "height": 34
        },
        "outputId": "44d4b951-1bc3-4cae-a3a9-1de73f159d05"
      },
      "source": [
        "from scipy.spatial import distance\n",
        "import operator\n",
        "k = 10\n",
        "#print(distance.euclidean([1,0,0], [0,1,0]))\n",
        "L = {}\n",
        "correct = 0\n",
        "for s in Val_set:\n",
        "  major_class = {}\n",
        "  L = {}\n",
        "  for v in Train_set:\n",
        "    #ed = distance.euclidean(s[1:], v[1:])\n",
        "    ed = distance.euclidean(s[0:(len(s)-1)], v[0:(len(v)-1)])\n",
        "    L[ed] = v\n",
        "  sorted_L = sorted(L.keys())\n",
        "  count = 1\n",
        "  major_class = {}\n",
        "  for x in sorted_L:\n",
        "    if int(L[x][-1]) in major_class.keys(): \n",
        "      major_class[int(L[x][-1])] = major_class[int(L[x][-1])]+1\n",
        "    else:\n",
        "      major_class[int(L[x][-1])] = 0\n",
        "      major_class[int(L[x][-1])] = major_class[int(L[x][-1])]+1\n",
        "    count = count + 1\n",
        "    if(count > k):\n",
        "      break\n",
        "  #print(major_class)\n",
        "  val = max(major_class.items(), key=operator.itemgetter(1))[0]\n",
        "  # print(f\"S_value = {int(s[-1])}\")\n",
        "  # print(f\"V_value = {val}\")\n",
        "  if(int(s[-1]) == val):\n",
        "    correct = correct + 1\n",
        "#print(correct)\n",
        "accuracy = (correct/len(Val_set))*100\n",
        "print(accuracy)\n"
      ],
      "execution_count": null,
      "outputs": [
        {
          "output_type": "stream",
          "text": [
            "94.05594405594405\n"
          ],
          "name": "stdout"
        }
      ]
    },
    {
      "cell_type": "code",
      "metadata": {
        "id": "qNHnvKBy0TGs",
        "colab": {
          "base_uri": "https://localhost:8080/",
          "height": 34
        },
        "outputId": "0fd3be8d-2512-4c0f-be3f-3240cbd455b8"
      },
      "source": [
        "#print(distance.euclidean([1,0,0], [0,1,0]))\n",
        "L = {}\n",
        "correct = 0\n",
        "for s in Test_set:\n",
        "  major_class = {}\n",
        "  L = {}\n",
        "  for v in Train_set:\n",
        "    #ed = distance.euclidean(s[1:], v[1:])\n",
        "    ed = distance.euclidean(s[0:(len(s)-1)], v[0:(len(v)-1)])\n",
        "    L[ed] = v\n",
        "  sorted_L = sorted(L.keys())\n",
        "  count = 1\n",
        "  major_class = {}\n",
        "  for x in sorted_L:\n",
        "    if int(L[x][-1]) in major_class.keys(): \n",
        "      major_class[int(L[x][-1])] = major_class[int(L[x][-1])]+1\n",
        "    else:\n",
        "      major_class[int(L[x][-1])] = 0\n",
        "      major_class[int(L[x][-1])] = major_class[int(L[x][-1])]+1\n",
        "    count = count + 1\n",
        "    if(count > k):\n",
        "      break\n",
        "  #print(major_class)\n",
        "  val = max(major_class.items(), key=operator.itemgetter(1))[0]\n",
        "  # print(f\"S_value = {int(s[-1])}\")\n",
        "  # print(f\"V_value = {val}\")\n",
        "  if(int(s[-1]) == val):\n",
        "    correct = correct + 1\n",
        "#print(correct)\n",
        "accuracy = (correct/len(Test_set))*100\n",
        "print(accuracy)"
      ],
      "execution_count": null,
      "outputs": [
        {
          "output_type": "stream",
          "text": [
            "93.38235294117648\n"
          ],
          "name": "stdout"
        }
      ]
    }
  ]
}